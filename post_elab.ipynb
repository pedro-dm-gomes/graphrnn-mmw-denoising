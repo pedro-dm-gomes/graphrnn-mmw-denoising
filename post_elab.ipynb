{
 "cells": [
  {
   "cell_type": "code",
   "execution_count": 1,
   "metadata": {},
   "outputs": [],
   "source": [
    "import numpy as np\n",
    "import copy\n",
    "import os\n",
    "import json\n",
    "import matplotlib as mpl\n",
    "import matplotlib.pyplot as plt\n",
    "%matplotlib inline\n",
    "from mpl_toolkits import mplot3d\n",
    "from scipy.spatial.transform import Rotation\n",
    "np.set_printoptions(threshold=np.infty)\n",
    "from utils_data_elab import VIC_OFF_X, VIC_OFF_Y, get_scenes, scene, obstacle, run, get_obs_info, get_scene_index\n",
    "\n",
    "\n",
    "from postproc_utils import list_dataset, \\\n",
    "    dict_dataset, \\\n",
    "    load_dataset, \\\n",
    "    open_json, \\\n",
    "    load_obstacles, \\\n",
    "    apply_rototranslation, \\\n",
    "    plot_scene, \\\n",
    "    plot_2dscene, \\\n",
    "    arena_filter, \\\n",
    "    obstacles_filter, \\\n",
    "    obstacles_filter2, \\\n",
    "    obstacles_filter3, \\\n",
    "    quad_dist2, \\\n",
    "    inside_walls, \\\n",
    "    keep_borders, \\\n",
    "    generate_abs_bounding_obstacle, \\\n",
    "    generate_abs_bounding_obstacles, \\\n",
    "    get_point_labels, \\\n",
    "    compute_distv1, \\\n",
    "    stack_labels_dists, \\\n",
    "    get_labels\n",
    "\n",
    "mpl.rcParams['xtick.labelsize'] = 25\n",
    "mpl.rcParams['ytick.labelsize'] = 25\n",
    "# set axis label size to 25\n",
    "mpl.rcParams['font.size'] = 25\n",
    "\n",
    "path_to_json = \"./data/\"\n"
   ]
  },
  {
   "cell_type": "markdown",
   "metadata": {},
   "source": [
    "# Load data"
   ]
  },
  {
   "cell_type": "code",
   "execution_count": 20,
   "metadata": {},
   "outputs": [
    {
     "name": "stdout",
     "output_type": "stream",
     "text": [
      " Shapes:  (1343, 12, 200) (1343, 12, 200) 1355\n"
     ]
    }
   ],
   "source": [
    "model = \"Transformer_v17_lr2\"\n",
    "run = \"49\"\n",
    "\n",
    "run_pred_fn = \"./data/full_runs_prediction/\"+model+\"/full_run_pred_labels_run_\"+run+\".npy\"\n",
    "run_labels_fn = \"./data/full_runs_prediction/\"+model+\"/full_run_labels_labels_run_\"+run+\".npy\"\n",
    "\n",
    "run_labels = np.load(run_labels_fn)\n",
    "run_labels = np.squeeze(run_labels)         # removing the last column\n",
    "\n",
    "run_pred = np.load(run_pred_fn)\n",
    "run_pred = np.argmax(run_pred, axis=-1)     # the predictions are actually probabilities --> argmax\n",
    "\n",
    "labelled_mmw = json.load(open(path_to_json+\"/run_\"+run+\"/labelled_mmw_run_\"+run+\".json\"))[\"labelled_mmw\"]\n",
    "labelled_mmw_ = []\n",
    "for i in range(len(labelled_mmw)):\n",
    "    for j in range(len(labelled_mmw[i])//200):\n",
    "        labelled_mmw_.append(labelled_mmw[i][j*200:(j+1)*200])\n",
    "labelled_mmw = labelled_mmw_\n",
    "\n",
    "print(\" Shapes: \", run_labels.shape, run_pred.shape, len(labelled_mmw))"
   ]
  },
  {
   "cell_type": "code",
   "execution_count": 40,
   "metadata": {},
   "outputs": [
    {
     "name": "stdout",
     "output_type": "stream",
     "text": [
      "(1354, 200, 4)\n"
     ]
    }
   ],
   "source": [
    "def unroll(data):\n",
    "    ret = [x for x in data[0]]\n",
    "    for i in range(1, len(data)):\n",
    "        ret.append(data[i][-1])\n",
    "    return np.array(ret)\n",
    "\n",
    "unrolled_labels = unroll(run_labels)\n",
    "pos = np.stack(labelled_mmw[:len(unrolled_labels)])[:, :, :3]\n",
    "\n",
    "unrolled_labels = np.stack([unrolled_labels, pos[:, :, 0], pos[:, :, 1], pos[:, :, 2]], axis=-1)\n"
   ]
  },
  {
   "cell_type": "markdown",
   "metadata": {},
   "source": [
    "### Stack data"
   ]
  },
  {
   "cell_type": "code",
   "execution_count": 16,
   "metadata": {},
   "outputs": [
    {
     "name": "stdout",
     "output_type": "stream",
     "text": [
      "Accuracy:  0.7619052494415488\n"
     ]
    }
   ],
   "source": [
    "# compute accuracy\n",
    "# accuracy = np.mean(run_labels == run_pred)\n",
    "# print(\"Accuracy: \", accuracy)\n",
    "labels = np.hstack(np.vstack(run_labels))\n",
    "preds = np.hstack(np.vstack(run_pred))\n",
    "\n",
    "accuracy = np.mean(labels == preds)\n",
    "print(\"Accuracy: \", accuracy)"
   ]
  }
 ],
 "metadata": {
  "kernelspec": {
   "display_name": "Python 3",
   "language": "python",
   "name": "python3"
  },
  "language_info": {
   "codemirror_mode": {
    "name": "ipython",
    "version": 3
   },
   "file_extension": ".py",
   "mimetype": "text/x-python",
   "name": "python",
   "nbconvert_exporter": "python",
   "pygments_lexer": "ipython3",
   "version": "3.10.12"
  }
 },
 "nbformat": 4,
 "nbformat_minor": 2
}
